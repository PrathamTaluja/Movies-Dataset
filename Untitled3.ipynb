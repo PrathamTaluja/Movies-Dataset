{
 "cells": [
  {
   "cell_type": "code",
   "execution_count": 1,
   "id": "10c19852",
   "metadata": {},
   "outputs": [],
   "source": [
    "import pandas as pd \n",
    "import numpy as np\n",
    "import requests\n",
    "import ast"
   ]
  },
  {
   "cell_type": "code",
   "execution_count": 2,
   "id": "dd029dd8",
   "metadata": {},
   "outputs": [],
   "source": [
    "keywords= pd.read_csv(\"keywords.csv\")"
   ]
  },
  {
   "cell_type": "code",
   "execution_count": 3,
   "id": "9a19d247",
   "metadata": {},
   "outputs": [
    {
     "data": {
      "text/html": [
       "<div>\n",
       "<style scoped>\n",
       "    .dataframe tbody tr th:only-of-type {\n",
       "        vertical-align: middle;\n",
       "    }\n",
       "\n",
       "    .dataframe tbody tr th {\n",
       "        vertical-align: top;\n",
       "    }\n",
       "\n",
       "    .dataframe thead th {\n",
       "        text-align: right;\n",
       "    }\n",
       "</style>\n",
       "<table border=\"1\" class=\"dataframe\">\n",
       "  <thead>\n",
       "    <tr style=\"text-align: right;\">\n",
       "      <th></th>\n",
       "      <th>id</th>\n",
       "      <th>keywords</th>\n",
       "    </tr>\n",
       "  </thead>\n",
       "  <tbody>\n",
       "    <tr>\n",
       "      <th>0</th>\n",
       "      <td>862</td>\n",
       "      <td>[{'id': 931, 'name': 'jealousy'}, {'id': 4290,...</td>\n",
       "    </tr>\n",
       "    <tr>\n",
       "      <th>1</th>\n",
       "      <td>8844</td>\n",
       "      <td>[{'id': 10090, 'name': 'board game'}, {'id': 1...</td>\n",
       "    </tr>\n",
       "    <tr>\n",
       "      <th>2</th>\n",
       "      <td>15602</td>\n",
       "      <td>[{'id': 1495, 'name': 'fishing'}, {'id': 12392...</td>\n",
       "    </tr>\n",
       "    <tr>\n",
       "      <th>3</th>\n",
       "      <td>31357</td>\n",
       "      <td>[{'id': 818, 'name': 'based on novel'}, {'id':...</td>\n",
       "    </tr>\n",
       "    <tr>\n",
       "      <th>4</th>\n",
       "      <td>11862</td>\n",
       "      <td>[{'id': 1009, 'name': 'baby'}, {'id': 1599, 'n...</td>\n",
       "    </tr>\n",
       "    <tr>\n",
       "      <th>...</th>\n",
       "      <td>...</td>\n",
       "      <td>...</td>\n",
       "    </tr>\n",
       "    <tr>\n",
       "      <th>46414</th>\n",
       "      <td>439050</td>\n",
       "      <td>[{'id': 10703, 'name': 'tragic love'}]</td>\n",
       "    </tr>\n",
       "    <tr>\n",
       "      <th>46415</th>\n",
       "      <td>111109</td>\n",
       "      <td>[{'id': 2679, 'name': 'artist'}, {'id': 14531,...</td>\n",
       "    </tr>\n",
       "    <tr>\n",
       "      <th>46416</th>\n",
       "      <td>67758</td>\n",
       "      <td>[]</td>\n",
       "    </tr>\n",
       "    <tr>\n",
       "      <th>46417</th>\n",
       "      <td>227506</td>\n",
       "      <td>[]</td>\n",
       "    </tr>\n",
       "    <tr>\n",
       "      <th>46418</th>\n",
       "      <td>461257</td>\n",
       "      <td>[]</td>\n",
       "    </tr>\n",
       "  </tbody>\n",
       "</table>\n",
       "<p>46419 rows × 2 columns</p>\n",
       "</div>"
      ],
      "text/plain": [
       "           id                                           keywords\n",
       "0         862  [{'id': 931, 'name': 'jealousy'}, {'id': 4290,...\n",
       "1        8844  [{'id': 10090, 'name': 'board game'}, {'id': 1...\n",
       "2       15602  [{'id': 1495, 'name': 'fishing'}, {'id': 12392...\n",
       "3       31357  [{'id': 818, 'name': 'based on novel'}, {'id':...\n",
       "4       11862  [{'id': 1009, 'name': 'baby'}, {'id': 1599, 'n...\n",
       "...       ...                                                ...\n",
       "46414  439050             [{'id': 10703, 'name': 'tragic love'}]\n",
       "46415  111109  [{'id': 2679, 'name': 'artist'}, {'id': 14531,...\n",
       "46416   67758                                                 []\n",
       "46417  227506                                                 []\n",
       "46418  461257                                                 []\n",
       "\n",
       "[46419 rows x 2 columns]"
      ]
     },
     "execution_count": 3,
     "metadata": {},
     "output_type": "execute_result"
    }
   ],
   "source": [
    "keywords"
   ]
  },
  {
   "cell_type": "code",
   "execution_count": 4,
   "id": "fbd9d734",
   "metadata": {},
   "outputs": [],
   "source": [
    "keywords[\"new_keywords\"]= keywords[\"keywords\"].map(lambda x: ast.literal_eval(x))"
   ]
  },
  {
   "cell_type": "code",
   "execution_count": 5,
   "id": "9bee3747",
   "metadata": {},
   "outputs": [
    {
     "data": {
      "text/plain": [
       "[{'id': 10090, 'name': 'board game'},\n",
       " {'id': 10941, 'name': 'disappearance'},\n",
       " {'id': 15101, 'name': \"based on children's book\"},\n",
       " {'id': 33467, 'name': 'new home'},\n",
       " {'id': 158086, 'name': 'recluse'},\n",
       " {'id': 158091, 'name': 'giant insect'}]"
      ]
     },
     "execution_count": 5,
     "metadata": {},
     "output_type": "execute_result"
    }
   ],
   "source": [
    "keywords[\"new_keywords\"].iloc[1]"
   ]
  },
  {
   "cell_type": "code",
   "execution_count": 6,
   "id": "7a89f8fe",
   "metadata": {},
   "outputs": [],
   "source": [
    "def get_keywords(names):\n",
    "    key=[]\n",
    "    st=\",\"\n",
    "    for i in names:\n",
    "        key.append(i.get(\"name\"))\n",
    "            \n",
    "    if key==[]:\n",
    "        return np.NaN\n",
    "    else:\n",
    "        return st.join(key)\n"
   ]
  },
  {
   "cell_type": "code",
   "execution_count": 7,
   "id": "44698134",
   "metadata": {},
   "outputs": [],
   "source": [
    "new_key= keywords[\"new_keywords\"].apply(lambda x: get_keywords(x))"
   ]
  },
  {
   "cell_type": "code",
   "execution_count": 10,
   "id": "38cf61fc",
   "metadata": {},
   "outputs": [],
   "source": [
    "keywords[\"new_key\"]= new_key"
   ]
  },
  {
   "cell_type": "code",
   "execution_count": 12,
   "id": "f497ce8d",
   "metadata": {},
   "outputs": [
    {
     "data": {
      "text/plain": [
       "Index(['id', 'keywords', 'new_keywords', 'new_key'], dtype='object')"
      ]
     },
     "execution_count": 12,
     "metadata": {},
     "output_type": "execute_result"
    }
   ],
   "source": [
    "keywords.columns"
   ]
  },
  {
   "cell_type": "code",
   "execution_count": 13,
   "id": "a2519c06",
   "metadata": {},
   "outputs": [],
   "source": [
    "new_keywords= keywords.drop(['keywords', \"new_keywords\"],axis=1)"
   ]
  },
  {
   "cell_type": "code",
   "execution_count": 15,
   "id": "3905ae44",
   "metadata": {},
   "outputs": [],
   "source": [
    "new_keywords.to_csv(\"new_keywords.csv\", index= False)"
   ]
  },
  {
   "cell_type": "code",
   "execution_count": null,
   "id": "cbfcbd0d",
   "metadata": {},
   "outputs": [],
   "source": []
  }
 ],
 "metadata": {
  "kernelspec": {
   "display_name": "Python 3 (ipykernel)",
   "language": "python",
   "name": "python3"
  },
  "language_info": {
   "codemirror_mode": {
    "name": "ipython",
    "version": 3
   },
   "file_extension": ".py",
   "mimetype": "text/x-python",
   "name": "python",
   "nbconvert_exporter": "python",
   "pygments_lexer": "ipython3",
   "version": "3.9.12"
  }
 },
 "nbformat": 4,
 "nbformat_minor": 5
}
